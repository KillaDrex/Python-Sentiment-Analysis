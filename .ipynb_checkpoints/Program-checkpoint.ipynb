{
 "cells": [
  {
   "cell_type": "code",
   "execution_count": 8,
   "id": "6febb574",
   "metadata": {},
   "outputs": [],
   "source": [
    "import python-twitter"
   ]
  },
  {
   "cell_type": "code",
   "execution_count": 22,
   "id": "9e7196ee",
   "metadata": {},
   "outputs": [],
   "source": [
    "# initialize api instance\n",
    "twitter_api = twitter.Api(consumer_key='oNar6yAVP7vKqkv56lQjpfKA6',\n",
    "                        consumer_secret='kCqqSEITKvHrYnkgc03mYsvnd6oBcguFq4S4WL76PFgLQvpPLP',\n",
    "                        access_token_key='1664450540896673792-7QTE4flLNJpM7Tn2c29ewa5YBmOAfD',\n",
    "                        access_token_secret='CumKVv6HM8jtGfcbxRc4cEcO4x38O03GxRTru4PsCevOa')"
   ]
  },
  {
   "cell_type": "code",
   "execution_count": null,
   "id": "735a2711",
   "metadata": {},
   "outputs": [],
   "source": [
    "# test authentication\n",
    "print(twitter_api.VerifyCredentials())"
   ]
  }
 ],
 "metadata": {
  "kernelspec": {
   "display_name": "Python 3 (ipykernel)",
   "language": "python",
   "name": "python3"
  },
  "language_info": {
   "codemirror_mode": {
    "name": "ipython",
    "version": 3
   },
   "file_extension": ".py",
   "mimetype": "text/x-python",
   "name": "python",
   "nbconvert_exporter": "python",
   "pygments_lexer": "ipython3",
   "version": "3.11.0"
  }
 },
 "nbformat": 4,
 "nbformat_minor": 5
}
